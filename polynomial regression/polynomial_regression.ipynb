{
  "nbformat": 4,
  "nbformat_minor": 0,
  "metadata": {
    "colab": {
      "name": "polynomial regression.ipynb",
      "provenance": [],
      "collapsed_sections": []
    },
    "kernelspec": {
      "name": "python3",
      "display_name": "Python 3"
    }
  },
  "cells": [
    {
      "cell_type": "code",
      "metadata": {
        "id": "s9ObW0CSKixw",
        "colab_type": "code",
        "colab": {}
      },
      "source": [
        "import numpy as np\n",
        "import matplotlib.pyplot as plt\n",
        "from keras.models import Sequential\n",
        "from keras.layers import Dense\n",
        "from keras.optimizers import Adam"
      ],
      "execution_count": 0,
      "outputs": []
    },
    {
      "cell_type": "code",
      "metadata": {
        "id": "ZCgihD8EKoL7",
        "colab_type": "code",
        "colab": {}
      },
      "source": [
        "np.random.seed(0)\n",
        "points = 500\n",
        "X = np.linspace(-3, 3, points)\n",
        "y = np.sin(X) + np.random.uniform(-0.5, 0.5, points)#here we just add a noise func to our model\n",
        "model = Sequential()\n",
        "model.add(Dense(50, activation='sigmoid', input_dim=1))\n",
        "model.add(Dense(30, activation='sigmoid'))\n",
        "model.add(Dense(1))"
      ],
      "execution_count": 0,
      "outputs": []
    },
    {
      "cell_type": "code",
      "metadata": {
        "id": "bhevB8iNKpBC",
        "colab_type": "code",
        "colab": {}
      },
      "source": [
        "adam = Adam(lr=0.01)\n",
        "model.compile(loss='mse', optimizer=adam)\n",
        "model.fit(X, y, epochs=50)\n",
        "predictions = model.predict(X)\n",
        "plt.scatter(X, y)\n",
        "plt.plot(X, predictions, 'ro')\n",
        "plt.show()"
      ],
      "execution_count": 0,
      "outputs": []
    }
  ]
}